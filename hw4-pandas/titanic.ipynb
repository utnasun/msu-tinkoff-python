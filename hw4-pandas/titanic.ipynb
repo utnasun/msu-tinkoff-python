{
 "cells": [
  {
   "cell_type": "code",
   "execution_count": 24,
   "id": "93267e8c",
   "metadata": {},
   "outputs": [],
   "source": [
    "import pandas as pd\n",
    "import numpy as np\n",
    "df = pd.read_csv(\"train.csv\")"
   ]
  },
  {
   "cell_type": "code",
   "execution_count": 25,
   "id": "00af8030",
   "metadata": {},
   "outputs": [
    {
     "data": {
      "text/html": [
       "<div>\n",
       "<style scoped>\n",
       "    .dataframe tbody tr th:only-of-type {\n",
       "        vertical-align: middle;\n",
       "    }\n",
       "\n",
       "    .dataframe tbody tr th {\n",
       "        vertical-align: top;\n",
       "    }\n",
       "\n",
       "    .dataframe thead th {\n",
       "        text-align: right;\n",
       "    }\n",
       "</style>\n",
       "<table border=\"1\" class=\"dataframe\">\n",
       "  <thead>\n",
       "    <tr style=\"text-align: right;\">\n",
       "      <th></th>\n",
       "      <th>PassengerId</th>\n",
       "      <th>Survived</th>\n",
       "      <th>Pclass</th>\n",
       "      <th>Name</th>\n",
       "      <th>Sex</th>\n",
       "      <th>Age</th>\n",
       "      <th>SibSp</th>\n",
       "      <th>Parch</th>\n",
       "      <th>Ticket</th>\n",
       "      <th>Fare</th>\n",
       "      <th>Cabin</th>\n",
       "      <th>Embarked</th>\n",
       "    </tr>\n",
       "  </thead>\n",
       "  <tbody>\n",
       "    <tr>\n",
       "      <th>0</th>\n",
       "      <td>1</td>\n",
       "      <td>0</td>\n",
       "      <td>3</td>\n",
       "      <td>Braund, Mr. Owen Harris</td>\n",
       "      <td>male</td>\n",
       "      <td>22.0</td>\n",
       "      <td>1</td>\n",
       "      <td>0</td>\n",
       "      <td>A/5 21171</td>\n",
       "      <td>7.2500</td>\n",
       "      <td>NaN</td>\n",
       "      <td>S</td>\n",
       "    </tr>\n",
       "    <tr>\n",
       "      <th>1</th>\n",
       "      <td>2</td>\n",
       "      <td>1</td>\n",
       "      <td>1</td>\n",
       "      <td>Cumings, Mrs. John Bradley (Florence Briggs Th...</td>\n",
       "      <td>female</td>\n",
       "      <td>38.0</td>\n",
       "      <td>1</td>\n",
       "      <td>0</td>\n",
       "      <td>PC 17599</td>\n",
       "      <td>71.2833</td>\n",
       "      <td>C85</td>\n",
       "      <td>C</td>\n",
       "    </tr>\n",
       "    <tr>\n",
       "      <th>2</th>\n",
       "      <td>3</td>\n",
       "      <td>1</td>\n",
       "      <td>3</td>\n",
       "      <td>Heikkinen, Miss. Laina</td>\n",
       "      <td>female</td>\n",
       "      <td>26.0</td>\n",
       "      <td>0</td>\n",
       "      <td>0</td>\n",
       "      <td>STON/O2. 3101282</td>\n",
       "      <td>7.9250</td>\n",
       "      <td>NaN</td>\n",
       "      <td>S</td>\n",
       "    </tr>\n",
       "    <tr>\n",
       "      <th>3</th>\n",
       "      <td>4</td>\n",
       "      <td>1</td>\n",
       "      <td>1</td>\n",
       "      <td>Futrelle, Mrs. Jacques Heath (Lily May Peel)</td>\n",
       "      <td>female</td>\n",
       "      <td>35.0</td>\n",
       "      <td>1</td>\n",
       "      <td>0</td>\n",
       "      <td>113803</td>\n",
       "      <td>53.1000</td>\n",
       "      <td>C123</td>\n",
       "      <td>S</td>\n",
       "    </tr>\n",
       "    <tr>\n",
       "      <th>4</th>\n",
       "      <td>5</td>\n",
       "      <td>0</td>\n",
       "      <td>3</td>\n",
       "      <td>Allen, Mr. William Henry</td>\n",
       "      <td>male</td>\n",
       "      <td>35.0</td>\n",
       "      <td>0</td>\n",
       "      <td>0</td>\n",
       "      <td>373450</td>\n",
       "      <td>8.0500</td>\n",
       "      <td>NaN</td>\n",
       "      <td>S</td>\n",
       "    </tr>\n",
       "  </tbody>\n",
       "</table>\n",
       "</div>"
      ],
      "text/plain": [
       "   PassengerId  Survived  Pclass  \\\n",
       "0            1         0       3   \n",
       "1            2         1       1   \n",
       "2            3         1       3   \n",
       "3            4         1       1   \n",
       "4            5         0       3   \n",
       "\n",
       "                                                Name     Sex   Age  SibSp  \\\n",
       "0                            Braund, Mr. Owen Harris    male  22.0      1   \n",
       "1  Cumings, Mrs. John Bradley (Florence Briggs Th...  female  38.0      1   \n",
       "2                             Heikkinen, Miss. Laina  female  26.0      0   \n",
       "3       Futrelle, Mrs. Jacques Heath (Lily May Peel)  female  35.0      1   \n",
       "4                           Allen, Mr. William Henry    male  35.0      0   \n",
       "\n",
       "   Parch            Ticket     Fare Cabin Embarked  \n",
       "0      0         A/5 21171   7.2500   NaN        S  \n",
       "1      0          PC 17599  71.2833   C85        C  \n",
       "2      0  STON/O2. 3101282   7.9250   NaN        S  \n",
       "3      0            113803  53.1000  C123        S  \n",
       "4      0            373450   8.0500   NaN        S  "
      ]
     },
     "execution_count": 25,
     "metadata": {},
     "output_type": "execute_result"
    }
   ],
   "source": [
    "df.head()"
   ]
  },
  {
   "cell_type": "markdown",
   "id": "2fa6edad",
   "metadata": {},
   "source": [
    "## 1 задание\n",
    "### Количество выживших и погибших?\n",
    "Ответ: 342 выживших и 549 погибших"
   ]
  },
  {
   "cell_type": "code",
   "execution_count": 26,
   "id": "2edd7021",
   "metadata": {},
   "outputs": [
    {
     "data": {
      "text/plain": [
       "0    549\n",
       "1    342\n",
       "Name: Survived, dtype: int64"
      ]
     },
     "execution_count": 26,
     "metadata": {},
     "output_type": "execute_result"
    }
   ],
   "source": [
    "df.Survived.value_counts()"
   ]
  },
  {
   "cell_type": "markdown",
   "id": "d77ff146",
   "metadata": {},
   "source": [
    "## 2 задание\n",
    "\n",
    "### Количество строк в таблице после удаления всех строк с пропущенными данными?\n",
    "Ответ: 183"
   ]
  },
  {
   "cell_type": "code",
   "execution_count": 27,
   "id": "dc708e0f",
   "metadata": {},
   "outputs": [
    {
     "data": {
      "text/plain": [
       "183"
      ]
     },
     "execution_count": 27,
     "metadata": {},
     "output_type": "execute_result"
    }
   ],
   "source": [
    "len(df.dropna().index)"
   ]
  },
  {
   "cell_type": "markdown",
   "id": "1966089a",
   "metadata": {},
   "source": [
    "## 3 задание\n",
    "\n",
    "### У какого количества пассажиров не указан порт?\n",
    "Ответ: 2"
   ]
  },
  {
   "cell_type": "code",
   "execution_count": 6,
   "id": "20ee5367",
   "metadata": {},
   "outputs": [
    {
     "data": {
      "text/plain": [
       "2"
      ]
     },
     "execution_count": 6,
     "metadata": {},
     "output_type": "execute_result"
    }
   ],
   "source": [
    "df['Embarked'].isna().sum()"
   ]
  },
  {
   "cell_type": "markdown",
   "id": "007cc17e",
   "metadata": {},
   "source": [
    "## 4 задание\n",
    "\n",
    "### Количество уникальных кают, только для непустых данных по номеру?\n",
    "Ответ: 147"
   ]
  },
  {
   "cell_type": "code",
   "execution_count": 7,
   "id": "bec8fd05",
   "metadata": {},
   "outputs": [
    {
     "data": {
      "text/plain": [
       "147"
      ]
     },
     "execution_count": 7,
     "metadata": {},
     "output_type": "execute_result"
    }
   ],
   "source": [
    "len(df['Cabin'].dropna().unique())"
   ]
  },
  {
   "cell_type": "markdown",
   "id": "e763f23b",
   "metadata": {},
   "source": [
    "## 5 задание\n",
    "\n",
    "### 75% пассажиров заплатило не более F$?"
   ]
  },
  {
   "cell_type": "code",
   "execution_count": 8,
   "id": "2d9d0c88",
   "metadata": {},
   "outputs": [
    {
     "data": {
      "text/plain": [
       "31.0"
      ]
     },
     "execution_count": 8,
     "metadata": {},
     "output_type": "execute_result"
    }
   ],
   "source": [
    "df['Fare'].quantile(0.75)"
   ]
  },
  {
   "cell_type": "markdown",
   "id": "8222352d",
   "metadata": {},
   "source": [
    "## 6 задание\n",
    "\n",
    "### Средний возраст пассажиров на Титанике с учетом того, что все пропущенные данные заполнить медианой?\n",
    "Ответ: 29.36"
   ]
  },
  {
   "cell_type": "code",
   "execution_count": 9,
   "id": "e48978bb",
   "metadata": {},
   "outputs": [
    {
     "data": {
      "text/plain": [
       "29.36158249158249"
      ]
     },
     "execution_count": 9,
     "metadata": {},
     "output_type": "execute_result"
    }
   ],
   "source": [
    "df['Age'].fillna(df['Age'].median()).mean()"
   ]
  },
  {
   "cell_type": "markdown",
   "id": "77a15f37",
   "metadata": {},
   "source": [
    "## 7 задание\n",
    "\n",
    "### 95% людей имеет не более W слов в имени пассажира?\n",
    "Ответ: 7"
   ]
  },
  {
   "cell_type": "code",
   "execution_count": 22,
   "id": "35a91f4f",
   "metadata": {},
   "outputs": [
    {
     "data": {
      "text/plain": [
       "7.0"
      ]
     },
     "execution_count": 22,
     "metadata": {},
     "output_type": "execute_result"
    }
   ],
   "source": [
    "df.Name.apply(lambda x: len(x.split())).quantile(0.95)\n",
    "# df.Name.apply(lambda x: len(x.split()))\n",
    "# df['Name'].str.split().map(len)"
   ]
  },
  {
   "cell_type": "markdown",
   "id": "71afa342",
   "metadata": {},
   "source": [
    "## 8 задание\n",
    "\n",
    "### Топ 5 сокращений / обращений в порядке убывания\n",
    "\n",
    "Ответ: Mr -- 517, Miss -- 182, Mrs -- 125, William -- 62, John -- 44"
   ]
  },
  {
   "cell_type": "code",
   "execution_count": 41,
   "id": "e6dc5f67",
   "metadata": {},
   "outputs": [
    {
     "data": {
      "text/plain": [
       "(\"Mary\")        1.0\n",
       "Risien,         1.0\n",
       "LeRoy,          1.0\n",
       "Willingham      1.0\n",
       "Archibald       1.0\n",
       "              ...  \n",
       "John           44.0\n",
       "William        62.0\n",
       "Mrs.          125.0\n",
       "Miss.         182.0\n",
       "Mr.           517.0\n",
       "Length: 1674, dtype: float64"
      ]
     },
     "execution_count": 41,
     "metadata": {},
     "output_type": "execute_result"
    }
   ],
   "source": [
    "df.Name.apply(lambda x: pd.value_counts(x.split(\" \"))).sum(axis = 0).sort_values()"
   ]
  },
  {
   "cell_type": "markdown",
   "id": "d34ec8cb",
   "metadata": {},
   "source": [
    "## 9 задание\n",
    "\n",
    "### Выживаемость относительно пола (в процентах)?\n",
    "\n",
    "Ответ: 18.88 и 74.2 процентов от мужчин и женщин выжило (точность до сотых)"
   ]
  },
  {
   "cell_type": "code",
   "execution_count": 46,
   "id": "9acee4b4",
   "metadata": {},
   "outputs": [
    {
     "data": {
      "text/plain": [
       "Sex\n",
       "female    0.742038\n",
       "male      0.188908\n",
       "Name: Survived, dtype: float64"
      ]
     },
     "execution_count": 46,
     "metadata": {},
     "output_type": "execute_result"
    }
   ],
   "source": [
    "df.groupby('Sex').Survived.mean()"
   ]
  },
  {
   "cell_type": "markdown",
   "id": "1d08b3a6",
   "metadata": {},
   "source": [
    "## 10 задание\n",
    "\n",
    "### На каком месте по относительной выживаемости люди, у которых на борту не было ни родственников ни родителей?\n",
    "\n",
    "Ответ: целое число"
   ]
  },
  {
   "cell_type": "code",
   "execution_count": 57,
   "id": "984d353d",
   "metadata": {},
   "outputs": [
    {
     "data": {
      "text/plain": [
       "SibSp  Parch\n",
       "0      3          1\n",
       "1      3          1\n",
       "       5          1\n",
       "2      3          1\n",
       "       2          2\n",
       "3      0          2\n",
       "       2          2\n",
       "4      2          3\n",
       "2      0          4\n",
       "       1          6\n",
       "1      2         12\n",
       "0      2         21\n",
       "       1         25\n",
       "1      1         34\n",
       "       0         64\n",
       "0      0        163\n",
       "Name: Survived, dtype: int64"
      ]
     },
     "execution_count": 57,
     "metadata": {},
     "output_type": "execute_result"
    }
   ],
   "source": [
    "survivors_data = df[df.Survived==True]\n",
    "survivors_data.groupby(['SibSp', 'Parch']).Survived.count().sort_values()\n",
    "#df.groupby(['SibSp', 'Parch']).Survived.count().sort_values()"
   ]
  },
  {
   "cell_type": "code",
   "execution_count": null,
   "id": "fc0b3c9c",
   "metadata": {},
   "outputs": [],
   "source": []
  }
 ],
 "metadata": {
  "kernelspec": {
   "display_name": "Python 3 (ipykernel)",
   "language": "python",
   "name": "python3"
  },
  "language_info": {
   "codemirror_mode": {
    "name": "ipython",
    "version": 3
   },
   "file_extension": ".py",
   "mimetype": "text/x-python",
   "name": "python",
   "nbconvert_exporter": "python",
   "pygments_lexer": "ipython3",
   "version": "3.9.5"
  }
 },
 "nbformat": 4,
 "nbformat_minor": 5
}
